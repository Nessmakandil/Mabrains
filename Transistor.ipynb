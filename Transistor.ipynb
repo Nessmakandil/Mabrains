{
 "cells": [
  {
   "cell_type": "markdown",
   "metadata": {},
   "source": [
    "# Problem Statement:\n",
    "We need to build a model that predicts the transistor current value based on some parameters. \n",
    "\n",
    "Here is the list of parameters that you are allowed to use in your model as model input:\n",
    "* vds (Continuous Value)\n",
    "* L(um) (Continuous Value)\n",
    "* W(um) (Continuous Value)\n",
    "* drain_length(um) (Continuous Value)\n",
    "* temperature (Continuous Value)\n",
    "* vgs (Continuous Value)\n",
    "* vsb (Continuous Value)\n",
    "* corner (Categorical Value)\n",
    "\n",
    "We need to predict the following value:\n",
    "* id(uA) (Continuous value)\n",
    "\n",
    "Please drop all other columns in the dataset.\n",
    "\n",
    "The goal is optimize for minimum mean absolute percentage error for Id(uA).\n",
    "\n",
    "You must use tensorflow or pytorch to implement this (Deep Learning). \n",
    "\n",
    "Try to be innovative on how to choose the model architecture based on the known physical background around MOS transistors.\n",
    "\n",
    "\n",
    "Your submission will be assessed based on the following criteria in priority order:\n",
    "1. Code cleanness and readability.\n",
    "2. Code documentation.\n",
    "3. General documentation and usage documentation.\n",
    "4. Model quality and choice decision reasoning.\n",
    "5. Model performance."
   ]
  },
  {
   "cell_type": "code",
   "execution_count": 95,
   "metadata": {},
   "outputs": [],
   "source": [
    "import pandas as pd\n",
    "import numpy as np\n",
    "import matplotlib.pyplot as plt\n",
    "import seaborn as sns\n",
    "import tensorflow as tf\n",
    "import tensorflow as tf\n",
    "from sklearn.model_selection import train_test_split\n",
    "from tensorflow.keras.callbacks import EarlyStopping\n",
    "from tensorflow.keras.layers import Conv2D, Dropout, Flatten, Dense, Reshape, Normalization"
   ]
  },
  {
   "cell_type": "code",
   "execution_count": 67,
   "metadata": {},
   "outputs": [
    {
     "name": "stdout",
     "output_type": "stream",
     "text": [
      "table shape = (871488, 23)\n",
      "\n"
     ]
    },
    {
     "data": {
      "text/plain": [
       "['vds',\n",
       " 'L(um)',\n",
       " 'W(um)',\n",
       " 'drain_length(um)',\n",
       " 'temperature',\n",
       " 'vgs',\n",
       " 'vsb',\n",
       " 'vth',\n",
       " 'v_pinch_off',\n",
       " 'lambda(um)',\n",
       " 'id(uA)',\n",
       " 'ig(aA)',\n",
       " 'gm(uS)',\n",
       " 'gmb(uS)',\n",
       " 'ro(Kohm)',\n",
       " 'cgg(aF)',\n",
       " 'cgs(aF)',\n",
       " 'cgd(aF)',\n",
       " 'cdd(aF)',\n",
       " 'cdb(aF)',\n",
       " 'cgb(aF)',\n",
       " 'csb(aF)',\n",
       " 'corner']"
      ]
     },
     "execution_count": 67,
     "metadata": {},
     "output_type": "execute_result"
    }
   ],
   "source": [
    "# explore data\n",
    "df = pd.read_csv('simulated_data_nmos.csv')\n",
    "print(\"table shape = {}\\n\".format(df.shape))\n",
    "list(df.columns)\n"
   ]
  },
  {
   "cell_type": "code",
   "execution_count": 68,
   "metadata": {},
   "outputs": [
    {
     "data": {
      "text/plain": [
       "array(['tt', 'ss', 'sf', 'fs', 'ff'], dtype=object)"
      ]
     },
     "execution_count": 68,
     "metadata": {},
     "output_type": "execute_result"
    }
   ],
   "source": [
    "df[\"corner\"].unique()"
   ]
  },
  {
   "cell_type": "code",
   "execution_count": 69,
   "metadata": {},
   "outputs": [
    {
     "name": "stdout",
     "output_type": "stream",
     "text": [
      "<bound method NDFrame.head of          vds  L(um)  W(um)  drain_length(um)  temperature  vgs  vsb  corner\n",
      "0      -0.45   8.00   0.84               0.3         27.0  0.0  0.0       1\n",
      "1      -0.40   8.00   0.84               0.3         27.0  0.0  0.0       1\n",
      "2      -0.35   8.00   0.84               0.3         27.0  0.0  0.0       1\n",
      "3      -0.30   8.00   0.84               0.3         27.0  0.0  0.0       1\n",
      "4      -0.25   8.00   0.84               0.3         27.0  0.0  0.0       1\n",
      "...      ...    ...    ...               ...          ...  ...  ...     ...\n",
      "871483  2.30   0.15   7.00               0.3         27.0  1.8  1.5       5\n",
      "871484  2.35   0.15   7.00               0.3         27.0  1.8  1.5       5\n",
      "871485  2.40   0.15   7.00               0.3         27.0  1.8  1.5       5\n",
      "871486  2.45   0.15   7.00               0.3         27.0  1.8  1.5       5\n",
      "871487  2.50   0.15   7.00               0.3         27.0  1.8  1.5       5\n",
      "\n",
      "[871488 rows x 8 columns]>\n"
     ]
    },
    {
     "name": "stderr",
     "output_type": "stream",
     "text": [
      "C:\\Users\\nessm\\AppData\\Local\\Temp\\ipykernel_18168\\4088935857.py:3: SettingWithCopyWarning: \n",
      "A value is trying to be set on a copy of a slice from a DataFrame\n",
      "\n",
      "See the caveats in the documentation: https://pandas.pydata.org/pandas-docs/stable/user_guide/indexing.html#returning-a-view-versus-a-copy\n",
      "  inputs[\"corner\"].replace(['tt', 'ss', 'sf', 'fs', 'ff'], [1,2,3,4,5], inplace=True)\n"
     ]
    }
   ],
   "source": [
    "inputs = df[[\"vds\",\"L(um)\",\"W(um)\",\"drain_length(um)\",\"temperature\",\"vgs\",\"vsb\",\"corner\"]]\n",
    "labels = df[\"id(uA)\"]\n",
    "inputs[\"corner\"].replace(['tt', 'ss', 'sf', 'fs', 'ff'], [1,2,3,4,5], inplace=True)\n",
    "print(inputs.head)"
   ]
  },
  {
   "cell_type": "code",
   "execution_count": 70,
   "metadata": {},
   "outputs": [
    {
     "data": {
      "text/plain": [
       "871488"
      ]
     },
     "execution_count": 70,
     "metadata": {},
     "output_type": "execute_result"
    }
   ],
   "source": [
    "len(inputs)"
   ]
  },
  {
   "cell_type": "code",
   "execution_count": 71,
   "metadata": {},
   "outputs": [
    {
     "data": {
      "text/plain": [
       "8"
      ]
     },
     "execution_count": 71,
     "metadata": {},
     "output_type": "execute_result"
    }
   ],
   "source": [
    "frame_size = 128\n",
    "no_of_frames = int(len(inputs)/frame_size) \n",
    "inputs.shape[1]"
   ]
  },
  {
   "cell_type": "code",
   "execution_count": 72,
   "metadata": {},
   "outputs": [
    {
     "name": "stdout",
     "output_type": "stream",
     "text": [
      "(871488, 8)\n",
      "(6808, 128, 8, 1)\n"
     ]
    }
   ],
   "source": [
    "inputs = np.array(inputs)\n",
    "print(inputs.shape)\n",
    "inputsFramed = inputs[:no_of_frames*frame_size,:]\n",
    "inputsFramed = inputsFramed.reshape(no_of_frames,frame_size,inputs.shape[1],1)\n",
    "print(inputsFramed.shape) # (no. of frames, frame size, 9)"
   ]
  },
  {
   "cell_type": "code",
   "execution_count": 73,
   "metadata": {},
   "outputs": [
    {
     "name": "stdout",
     "output_type": "stream",
     "text": [
      "(871488,)\n",
      "(6808, 128, 1, 1)\n"
     ]
    }
   ],
   "source": [
    "labels = np.array(labels)\n",
    "print(labels.shape)\n",
    "labels = labels[:no_of_frames*frame_size]\n",
    "labels = labels.reshape(no_of_frames,frame_size,1,1)\n",
    "print(labels.shape) # (no. of frames, frame size, 1)"
   ]
  },
  {
   "cell_type": "code",
   "execution_count": 74,
   "metadata": {},
   "outputs": [],
   "source": [
    "# Split the data into training and validation/test sets\n",
    "train_inputs, valtest_inputs, train_labels, valtest_labels = train_test_split(inputsFramed, labels, test_size=0.2, random_state=42)\n",
    "    \n",
    "# Split the validation/test set into separate validation and test sets\n",
    "val_inputs, test_inputs, val_labels, test_labels = train_test_split(valtest_inputs, valtest_labels, test_size=0.5, random_state=42)\n"
   ]
  },
  {
   "cell_type": "code",
   "execution_count": 75,
   "metadata": {},
   "outputs": [
    {
     "data": {
      "text/plain": [
       "(5446, 128, 8, 1)"
      ]
     },
     "execution_count": 75,
     "metadata": {},
     "output_type": "execute_result"
    }
   ],
   "source": [
    "train_inputs.shape"
   ]
  },
  {
   "cell_type": "code",
   "execution_count": 118,
   "metadata": {},
   "outputs": [
    {
     "name": "stdout",
     "output_type": "stream",
     "text": [
      "Model: \"sequential_15\"\n",
      "_________________________________________________________________\n",
      " Layer (type)                Output Shape              Param #   \n",
      "=================================================================\n",
      " normalization_9 (Normaliza  (None, 128, 8, 1)         3         \n",
      " tion)                                                           \n",
      "                                                                 \n",
      " conv2d_9 (Conv2D)           (None, 128, 8, 16)        1024      \n",
      "                                                                 \n",
      " dropout_15 (Dropout)        (None, 128, 8, 16)        0         \n",
      "                                                                 \n",
      " flatten_6 (Flatten)         (None, 16384)             0         \n",
      "                                                                 \n",
      " dense_15 (Dense)            (None, 64)                1048640   \n",
      "                                                                 \n",
      " dropout_16 (Dropout)        (None, 64)                0         \n",
      "                                                                 \n",
      " dense_16 (Dense)            (None, 1)                 65        \n",
      "                                                                 \n",
      "=================================================================\n",
      "Total params: 1049732 (4.00 MB)\n",
      "Trainable params: 1049729 (4.00 MB)\n",
      "Non-trainable params: 3 (16.00 Byte)\n",
      "_________________________________________________________________\n"
     ]
    }
   ],
   "source": [
    "# Reshape the input shape\n",
    "input_shape = (128, 8, 1)  # Adjusted input shape\n",
    "\n",
    "# Create the model\n",
    "model = tf.keras.models.Sequential()\n",
    "model.add(Normalization(axis=-1, input_shape=input_shape))  # Normalization layer\n",
    "model.add(Conv2D(16, (8, 8), activation='relu', padding='same', use_bias=False))\n",
    "model.add(Dropout(0.2))\n",
    "\n",
    "# Flatten the output\n",
    "model.add(Flatten())\n",
    "\n",
    "# Add a dense layer for regression\n",
    "model.add(Dense(64, activation='relu'))\n",
    "model.add(Dropout(0.2))\n",
    "model.add(Dense(1))  # Output layer without activation function for continuous value prediction\n",
    "\n",
    "# Compile the model\n",
    "model.compile(optimizer='adam', metrics=['accuracy'], loss=\"mean_absolute_error\")\n",
    "early_stopping = EarlyStopping(monitor='val_accuracy', patience=5)\n",
    "\n",
    "# Print the model summary\n",
    "model.summary()"
   ]
  },
  {
   "cell_type": "code",
   "execution_count": 119,
   "metadata": {},
   "outputs": [],
   "source": [
    "history = model.fit(train_inputs, train_labels, validation_data=(val_inputs, val_labels), verbose=0,validation_split=0.2, epochs=100, batch_size=16, callbacks=[early_stopping])"
   ]
  },
  {
   "cell_type": "code",
   "execution_count": 120,
   "metadata": {},
   "outputs": [
    {
     "name": "stdout",
     "output_type": "stream",
     "text": [
      "213/213 [==============================] - 1s 5ms/step - loss: 338.4404 - accuracy: 0.0000e+00\n",
      "Test accuracy:  0.0\n"
     ]
    }
   ],
   "source": [
    "test_loss, test_acc = model.evaluate(inputsFramed, labels)\n",
    "print('Test accuracy: ', test_acc)"
   ]
  },
  {
   "cell_type": "code",
   "execution_count": 121,
   "metadata": {},
   "outputs": [
    {
     "data": {
      "text/html": [
       "<div>\n",
       "<style scoped>\n",
       "    .dataframe tbody tr th:only-of-type {\n",
       "        vertical-align: middle;\n",
       "    }\n",
       "\n",
       "    .dataframe tbody tr th {\n",
       "        vertical-align: top;\n",
       "    }\n",
       "\n",
       "    .dataframe thead th {\n",
       "        text-align: right;\n",
       "    }\n",
       "</style>\n",
       "<table border=\"1\" class=\"dataframe\">\n",
       "  <thead>\n",
       "    <tr style=\"text-align: right;\">\n",
       "      <th></th>\n",
       "      <th>loss</th>\n",
       "      <th>accuracy</th>\n",
       "      <th>val_loss</th>\n",
       "      <th>val_accuracy</th>\n",
       "      <th>epoch</th>\n",
       "    </tr>\n",
       "  </thead>\n",
       "  <tbody>\n",
       "    <tr>\n",
       "      <th>1</th>\n",
       "      <td>343.493103</td>\n",
       "      <td>0.000013</td>\n",
       "      <td>277.056213</td>\n",
       "      <td>0.0</td>\n",
       "      <td>1</td>\n",
       "    </tr>\n",
       "    <tr>\n",
       "      <th>2</th>\n",
       "      <td>343.443115</td>\n",
       "      <td>0.000014</td>\n",
       "      <td>276.776215</td>\n",
       "      <td>0.0</td>\n",
       "      <td>2</td>\n",
       "    </tr>\n",
       "    <tr>\n",
       "      <th>3</th>\n",
       "      <td>343.408966</td>\n",
       "      <td>0.000015</td>\n",
       "      <td>277.587585</td>\n",
       "      <td>0.0</td>\n",
       "      <td>3</td>\n",
       "    </tr>\n",
       "    <tr>\n",
       "      <th>4</th>\n",
       "      <td>343.419250</td>\n",
       "      <td>0.000024</td>\n",
       "      <td>276.854797</td>\n",
       "      <td>0.0</td>\n",
       "      <td>4</td>\n",
       "    </tr>\n",
       "    <tr>\n",
       "      <th>5</th>\n",
       "      <td>343.494476</td>\n",
       "      <td>0.000012</td>\n",
       "      <td>277.128662</td>\n",
       "      <td>0.0</td>\n",
       "      <td>5</td>\n",
       "    </tr>\n",
       "  </tbody>\n",
       "</table>\n",
       "</div>"
      ],
      "text/plain": [
       "         loss  accuracy    val_loss  val_accuracy  epoch\n",
       "1  343.493103  0.000013  277.056213           0.0      1\n",
       "2  343.443115  0.000014  276.776215           0.0      2\n",
       "3  343.408966  0.000015  277.587585           0.0      3\n",
       "4  343.419250  0.000024  276.854797           0.0      4\n",
       "5  343.494476  0.000012  277.128662           0.0      5"
      ]
     },
     "execution_count": 121,
     "metadata": {},
     "output_type": "execute_result"
    }
   ],
   "source": [
    "hist = pd.DataFrame(history.history)\n",
    "hist['epoch'] = history.epoch\n",
    "hist.tail()"
   ]
  },
  {
   "cell_type": "code",
   "execution_count": null,
   "metadata": {},
   "outputs": [],
   "source": []
  }
 ],
 "metadata": {
  "kernelspec": {
   "display_name": "Python 3",
   "language": "python",
   "name": "python3"
  },
  "language_info": {
   "codemirror_mode": {
    "name": "ipython",
    "version": 3
   },
   "file_extension": ".py",
   "mimetype": "text/x-python",
   "name": "python",
   "nbconvert_exporter": "python",
   "pygments_lexer": "ipython3",
   "version": "3.9.13"
  },
  "orig_nbformat": 4
 },
 "nbformat": 4,
 "nbformat_minor": 2
}
